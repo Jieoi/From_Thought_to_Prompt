{
  "nbformat": 4,
  "nbformat_minor": 0,
  "metadata": {
    "colab": {
      "provenance": []
    },
    "kernelspec": {
      "name": "python3",
      "display_name": "Python 3"
    },
    "language_info": {
      "name": "python"
    }
  },
  "cells": [
    {
      "cell_type": "code",
      "source": [
        "from google.colab import drive\n",
        "drive.mount('/content/drive')"
      ],
      "metadata": {
        "colab": {
          "base_uri": "https://localhost:8080/"
        },
        "id": "wXrhJjxEQq4_",
        "outputId": "4c85493d-4208-4ac6-8c90-bf8970dc2229"
      },
      "execution_count": null,
      "outputs": [
        {
          "output_type": "stream",
          "name": "stdout",
          "text": [
            "Drive already mounted at /content/drive; to attempt to forcibly remount, call drive.mount(\"/content/drive\", force_remount=True).\n"
          ]
        }
      ]
    },
    {
      "cell_type": "code",
      "source": [
        "import re\n",
        "import numpy as np\n",
        "import pandas as pd\n",
        "from pathlib import Path"
      ],
      "metadata": {
        "id": "DotH0YhEQr1_"
      },
      "execution_count": null,
      "outputs": []
    },
    {
      "cell_type": "code",
      "source": [
        "import pandas as pd\n",
        "import spacy\n",
        "from typing import List\n",
        "\n",
        "# english model\n",
        "nlp = spacy.load(\"en_core_web_sm\")"
      ],
      "metadata": {
        "id": "LtvvCk4LQr4b"
      },
      "execution_count": null,
      "outputs": []
    },
    {
      "cell_type": "code",
      "source": [
        "def score_richness(originals: List[str], enhanced: List[str]) -> pd.DataFrame:\n",
        "    records = []\n",
        "    for orig_text, enh_text in zip(originals, enhanced):\n",
        "        doc_o = nlp(orig_text)\n",
        "        doc_e = nlp(enh_text)\n",
        "\n",
        "        # get alphabetic tokens\n",
        "        tokens_o = [t for t in doc_o if t.is_alpha]\n",
        "        tokens_e = [t for t in doc_e if t.is_alpha]\n",
        "\n",
        "        # lexical diversity (TTR)\n",
        "        ttr_o = len(set([t.text.lower() for t in tokens_o])) / len(tokens_o) if tokens_o else 0\n",
        "        ttr_e = len(set([t.text.lower() for t in tokens_e])) / len(tokens_e) if tokens_e else 0\n",
        "\n",
        "        # lexical density (content words/total)\n",
        "        content_pos = {\"NOUN\", \"VERB\", \"ADJ\", \"ADV\", \"PROPN\"}\n",
        "        density_o = sum(1 for t in tokens_o if t.pos_ in content_pos) / len(tokens_o) if tokens_o else 0\n",
        "        density_e = sum(1 for t in tokens_e if t.pos_ in content_pos) / len(tokens_e) if tokens_e else 0\n",
        "\n",
        "        # POS enrichment ratios\n",
        "        adj_o = sum(1 for t in tokens_o if t.pos_ == \"ADJ\") / len(tokens_o) if tokens_o else 0\n",
        "        adj_e = sum(1 for t in tokens_e if t.pos_ == \"ADJ\") / len(tokens_e) if tokens_e else 0\n",
        "        noun_o = sum(1 for t in tokens_o if t.pos_ in {\"NOUN\", \"PROPN\"}) / len(tokens_o) if tokens_o else 0\n",
        "        noun_e = sum(1 for t in tokens_e if t.pos_ in {\"NOUN\", \"PROPN\"}) / len(tokens_e) if tokens_e else 0\n",
        "        verb_o = sum(1 for t in tokens_o if t.pos_ == \"VERB\") / len(tokens_o) if tokens_o else 0\n",
        "        verb_e = sum(1 for t in tokens_e if t.pos_ == \"VERB\") / len(tokens_e) if tokens_e else 0\n",
        "\n",
        "        # NER counts\n",
        "        ner_o = len(doc_o.ents)\n",
        "        ner_e = len(doc_e.ents)\n",
        "\n",
        "        records.append({\n",
        "            \"ttr_orig\": ttr_o,\n",
        "            \"ttr_enh\": ttr_e,\n",
        "            \"ttr_diff\": ttr_e - ttr_o,\n",
        "            \"density_orig\": density_o,\n",
        "            \"density_enh\": density_e,\n",
        "            \"density_diff\": density_e - density_o,\n",
        "            \"adj_ratio_orig\": adj_o,\n",
        "            \"adj_ratio_enh\": adj_e,\n",
        "            \"adj_ratio_diff\": adj_e - adj_o,\n",
        "            \"noun_ratio_orig\": noun_o,\n",
        "            \"noun_ratio_enh\": noun_e,\n",
        "            \"noun_ratio_diff\": noun_e - noun_o,\n",
        "            \"verb_ratio_orig\": verb_o,\n",
        "            \"verb_ratio_enh\": verb_e,\n",
        "            \"verb_ratio_diff\": verb_e - verb_o,\n",
        "            \"ner_orig\": ner_o,\n",
        "            \"ner_enh\": ner_e,\n",
        "            \"ner_diff\": ner_e - ner_o,\n",
        "        })\n",
        "\n",
        "    return pd.DataFrame(records)\n"
      ],
      "metadata": {
        "id": "6gec9SFbQr7F"
      },
      "execution_count": null,
      "outputs": []
    },
    {
      "cell_type": "code",
      "execution_count": null,
      "metadata": {
        "colab": {
          "base_uri": "https://localhost:8080/"
        },
        "id": "1kYhDGcRQkwK",
        "outputId": "5ad1c3ac-4e99-492e-ba5c-b770e2be6b68"
      },
      "outputs": [
        {
          "output_type": "stream",
          "name": "stdout",
          "text": [
            "BART_gen: found 200 prompts\n",
            "deepseek_gen: found 200 prompts\n",
            "QWEN_generated: found 200 prompts\n",
            "t5_gen: found 200 prompts\n",
            "   ttr_orig   ttr_enh  ttr_diff  density_orig  density_enh  density_diff  \\\n",
            "0  0.800000  0.684211 -0.115789      0.600000     0.631579      0.031579   \n",
            "1  0.777778  0.590361 -0.187416      0.555556     0.493976     -0.061580   \n",
            "2  0.864865  0.615385 -0.249480      0.648649     0.551282     -0.097367   \n",
            "3  0.920000  0.452381 -0.467619      0.680000     0.595238     -0.084762   \n",
            "4  0.827586  0.954545  0.126959      0.586207     0.954545      0.368339   \n",
            "\n",
            "   adj_ratio_orig  adj_ratio_enh  adj_ratio_diff  noun_ratio_orig  \\\n",
            "0        0.171429       0.184211        0.012782         0.285714   \n",
            "1        0.166667       0.120482       -0.046185         0.277778   \n",
            "2        0.135135       0.141026        0.005891         0.297297   \n",
            "3        0.240000       0.190476       -0.049524         0.280000   \n",
            "4        0.103448       0.318182        0.214734         0.310345   \n",
            "\n",
            "   noun_ratio_enh  noun_ratio_diff  verb_ratio_orig  verb_ratio_enh  \\\n",
            "0        0.315789         0.030075         0.142857        0.131579   \n",
            "1        0.240964        -0.036814         0.111111        0.108434   \n",
            "2        0.269231        -0.028067         0.189189        0.102564   \n",
            "3        0.285714         0.005714         0.160000        0.107143   \n",
            "4        0.545455         0.235110         0.172414        0.000000   \n",
            "\n",
            "   verb_ratio_diff  ner_orig  ner_enh  ner_diff     model  index  \n",
            "0        -0.011278       0.0      1.0       1.0  BART_gen      1  \n",
            "1        -0.002677       1.0      1.0       0.0  BART_gen      2  \n",
            "2        -0.086625       0.0      0.0       0.0  BART_gen      3  \n",
            "3        -0.052857       0.0      0.0       0.0  BART_gen      4  \n",
            "4        -0.172414       0.0      1.0       1.0  BART_gen      5  \n",
            "Saved to /content/drive/MyDrive/NLP_proj/richness_scores_all_models.csv\n"
          ]
        }
      ],
      "source": [
        "def collect_richness_scores(base_path: str, model_dirs: list[str]) -> pd.DataFrame:\n",
        "    records = []\n",
        "    base = Path(base_path)\n",
        "    orig_folder = base / \"original\"\n",
        "\n",
        "    for model in model_dirs:\n",
        "        if model == \"original\":\n",
        "            continue  # skip comparing original to original\n",
        "        mod_folder = base / model\n",
        "        txts = sorted(\n",
        "            [p for p in mod_folder.glob(\"*.txt\") if p.stem.isdigit()],\n",
        "            key=lambda p: int(p.stem)\n",
        "        )\n",
        "        print(f\"{model}: found {len(txts)} prompts\")\n",
        "\n",
        "        for p in txts:\n",
        "            idx = int(p.stem)\n",
        "            orig_text = (orig_folder / f\"{idx}.txt\").read_text(encoding=\"utf-8\")\n",
        "            enh_text  = p.read_text(encoding=\"utf-8\")\n",
        "\n",
        "            # call function  ################################################### here\n",
        "            df_one = score_richness(\n",
        "                originals      = [orig_text],\n",
        "                enhanced       = [enh_text]\n",
        "            )\n",
        "\n",
        "            # add model/index by converting to dic\n",
        "            row = df_one.iloc[0].to_dict()\n",
        "            row.update({\n",
        "                \"model\": model,\n",
        "                \"index\": idx\n",
        "            })\n",
        "            records.append(row)\n",
        "\n",
        "    # build a df with every metric and aggregate\n",
        "    return (\n",
        "        pd.DataFrame.from_records(records)\n",
        "          .sort_values([\"model\",\"index\"], ignore_index=True)\n",
        "    )\n",
        "\n",
        "\n",
        "# run\n",
        "base_dir = \"/content/drive/MyDrive/NLP_proj/text_data\"\n",
        "models   = [\"BART_gen\",\"deepseek_gen\",\"QWEN_generated\",\"t5_gen\"]\n",
        "\n",
        "df_scores = collect_richness_scores(base_dir, models)\n",
        "print(df_scores.head())\n",
        "\n",
        "# save\n",
        "out_path = \"/content/drive/MyDrive/NLP_proj/richness_scores_all_models.csv\"\n",
        "df_scores.to_csv(out_path, index=False)\n",
        "print(\"Saved to\", out_path)"
      ]
    },
    {
      "cell_type": "markdown",
      "source": [
        "Simple visualisation:"
      ],
      "metadata": {
        "id": "Nh_-8D6ndQii"
      }
    },
    {
      "cell_type": "code",
      "source": [
        "# weighte sun\n",
        "diff_cols = ['ttr_diff', 'density_diff','adj_ratio_diff',\n",
        "             'noun_ratio_diff', 'verb_ratio_diff','ner_diff']\n",
        "\n",
        "# [0, 1] normalisation\n",
        "for col in diff_cols:\n",
        "    mn, mx = df_scores[col].min(), df_scores[col].max()\n",
        "    df_scores[f'{col}_norm'] = (df_scores[col] - mn) / (mx - mn) if mx > mn else 0.0\n",
        "\n",
        "# get temp richness score\n",
        "norm_cols = [f\"{c}_norm\" for c in diff_cols]\n",
        "df_scores['richness_score'] = df_scores[norm_cols].mean(axis=1)"
      ],
      "metadata": {
        "id": "3SjVldtZRlDr"
      },
      "execution_count": null,
      "outputs": []
    },
    {
      "cell_type": "code",
      "source": [
        "import matplotlib.pyplot as plt"
      ],
      "metadata": {
        "id": "Dod4JrBEdfeP"
      },
      "execution_count": null,
      "outputs": []
    },
    {
      "cell_type": "code",
      "source": [
        "model_stats = df_scores.groupby('model')['richness_score'].agg(['mean', 'std']).reset_index()\n",
        "\n",
        "# display rename\n",
        "name_map = {\"BART_gen\": \"BART Base\",\n",
        "            \"deepseek_gen\": \"Deespseek_coder_1.3B\",\n",
        "            \"QWEN_generated\": \"QWEN_INSTRUCT_2B\",\n",
        "            \"t5_gen\": \"T5\"}\n",
        "model_stats['model_name'] = model_stats['model'].map(name_map)\n",
        "\n",
        "# sort\n",
        "model_stats = model_stats.sort_values('mean')\n",
        "\n",
        "# plot\n",
        "plt.figure()\n",
        "plt.bar(\n",
        "    model_stats['model_name'],\n",
        "    model_stats['mean'],\n",
        "    yerr=model_stats['std'],\n",
        "    capsize=5,\n",
        "    color='#0c3470'\n",
        ")\n",
        "plt.xlabel('Model')\n",
        "plt.ylabel('Composite Richness Score (mean ± std)')\n",
        "plt.title('Mean and Standard Deviation of Composite Richness Score by Model')\n",
        "plt.xticks(rotation=45)\n",
        "plt.tight_layout()\n",
        "plt.show()"
      ],
      "metadata": {
        "colab": {
          "base_uri": "https://localhost:8080/",
          "height": 487
        },
        "id": "5Gs42aciTJcw",
        "outputId": "cbf9a4d4-8397-4aae-aa23-405c6d1902f0"
      },
      "execution_count": null,
      "outputs": [
        {
          "output_type": "display_data",
          "data": {
            "text/plain": [
              "<Figure size 640x480 with 1 Axes>"
            ],
            "image/png": "[encoded data removed]"
          },
          "metadata": {}
        }
      ]
    },
    {
      "cell_type": "code",
      "source": [],
      "metadata": {
        "id": "VTKdNBcITgg-"
      },
      "execution_count": null,
      "outputs": []
    }
  ]
}